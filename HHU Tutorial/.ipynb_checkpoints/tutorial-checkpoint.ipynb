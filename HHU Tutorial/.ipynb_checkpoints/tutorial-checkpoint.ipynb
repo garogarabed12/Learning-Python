{
 "cells": [
  {
   "cell_type": "code",
   "execution_count": null,
   "id": "excess-release",
   "metadata": {},
   "outputs": [],
   "source": [
    "def quicksort(arr):\n",
    "    if len(arr) <= 1:\n",
    "        return arr\n",
    "    pivot = arr[len(arr) //2]\n",
    "    left = [x for x in arr if x < pivot]\n",
    "    right = [x for x in arr if x > pivot]\n",
    "    middle = [x for x in arr if x == pivot]\n",
    "    return quicksort(left) + middle + quicksort(right)\n",
    "\n",
    "print(quicksort([3, 6, 5, 8, 15, 65, 0, 1]))"
   ]
  },
  {
   "cell_type": "markdown",
   "id": "stretch-situation",
   "metadata": {},
   "source": [
    "String operations:"
   ]
  },
  {
   "cell_type": "code",
   "execution_count": null,
   "id": "metallic-lighting",
   "metadata": {},
   "outputs": [],
   "source": [
    "s = \"hello\"\n",
    "print(s.capitalize())              # Capitalizes a string\n",
    "print(s.upper())                   # Converts a string to uppercase\n",
    "print(s.lower())                   # Converts a string to lowercase\n",
    "print(s.center(7))                 # Centers a string padding with spaces\n",
    "print(s.endswith('f'))             # Returns true if the string ends with the specified value\n",
    "print(s.replace(\"l\", \"ell\"))       # Replaces all occurrances of the first string with the second one\n",
    "print(s.rjust(7))                  # Right-justifies a string padding with n spaces\n",
    "print(\"     hello  \".strip())      # Strip leading and trailing whitespacesd"
   ]
  },
  {
   "cell_type": "markdown",
   "id": "juvenile-binding",
   "metadata": {},
   "source": [
    "Classes"
   ]
  },
  {
   "cell_type": "code",
   "execution_count": null,
   "id": "young-perspective",
   "metadata": {},
   "outputs": [],
   "source": [
    "class Greeter:\n",
    "    \n",
    "    #Constructor (initializer)\n",
    "    def __init__(self, name):\n",
    "        self.name = name            # Create an instance variable\n",
    "        \n",
    "    #Instance method\n",
    "    def greet(self, loud=False):\n",
    "        if loud:\n",
    "            print(\"HELLO, %s!\" % self.name.upper())\n",
    "        else:\n",
    "            print(\"Hello, %s\" % self.name)\n",
    "            3\n",
    "g = Greeter(\"Fred\")                 # Instanciate the Greeter class\n",
    "g.greet()                           # Call an instance method\n",
    "g.greet(loud=True)"
   ]
  },
  {
   "cell_type": "code",
   "execution_count": null,
   "id": "herbal-resident",
   "metadata": {},
   "outputs": [],
   "source": [
    "# NUMPY\n",
    "import numpy as np"
   ]
  },
  {
   "cell_type": "markdown",
   "id": "authentic-auditor",
   "metadata": {},
   "source": [
    "A Numpy array is a grid of values, all of the same type and is indexed by a tuple of nonnegative integers. The number of dimensions is the rank of the array; the shape of it is a tuple of integers giving the size of the array along each dimension."
   ]
  },
  {
   "cell_type": "code",
   "execution_count": null,
   "id": "resident-insert",
   "metadata": {},
   "outputs": [],
   "source": [
    "a = np.array([1, 2, 3])             # Create a rank 1 array\n",
    "print(type(a), a.shape, a[0], a[1], a[2])\n",
    "a[0] = 5                            # Change an element"
   ]
  },
  {
   "cell_type": "code",
   "execution_count": null,
   "id": "directed-remedy",
   "metadata": {},
   "outputs": [],
   "source": [
    "b = np.array([[1,2,3], [4,5,6]])    # Create a rank 2 array\n",
    "print(b)"
   ]
  },
  {
   "cell_type": "code",
   "execution_count": null,
   "id": "muslim-problem",
   "metadata": {},
   "outputs": [],
   "source": [
    "print(b.shape)\n",
    "print(b[0,0], b[0,1], b[1,0])"
   ]
  },
  {
   "cell_type": "markdown",
   "id": "under-newcastle",
   "metadata": {},
   "source": [
    "Numpy also provides many functions to create arrays."
   ]
  },
  {
   "cell_type": "code",
   "execution_count": null,
   "id": "recreational-klein",
   "metadata": {},
   "outputs": [],
   "source": [
    "a = np.zeros((2,2))                 # Creates an array of zeros\n",
    "print(a)"
   ]
  },
  {
   "cell_type": "code",
   "execution_count": null,
   "id": "supported-glass",
   "metadata": {},
   "outputs": [],
   "source": [
    "b = np.ones((1,2))                  # Creates an array of ones\n",
    "print(b)"
   ]
  },
  {
   "cell_type": "code",
   "execution_count": null,
   "id": "multiple-system",
   "metadata": {},
   "outputs": [],
   "source": [
    "c = np.full((2,2), 7)               # Creates a constant array\n",
    "print(c)"
   ]
  },
  {
   "cell_type": "code",
   "execution_count": null,
   "id": "united-border",
   "metadata": {},
   "outputs": [],
   "source": [
    "d = np.eye(2)                       # Creates a 2x2 identity matrix\n",
    "print(d)"
   ]
  },
  {
   "cell_type": "code",
   "execution_count": null,
   "id": "processed-fundamentals",
   "metadata": {},
   "outputs": [],
   "source": [
    "e = np.random.random((2,2))\n",
    "print(e)"
   ]
  },
  {
   "cell_type": "markdown",
   "id": "sharing-oliver",
   "metadata": {},
   "source": [
    "Array Indexing\n",
    "\n",
    "There are many ways for Numpy to index into arrays."
   ]
  },
  {
   "cell_type": "markdown",
   "id": "acceptable-particular",
   "metadata": {},
   "source": [
    "Slicing: Similar to Python lists numpy arrays can be sliced. Since arrays my be multidimensional you must specify a slice for each dimension of the array."
   ]
  },
  {
   "cell_type": "code",
   "execution_count": null,
   "id": "direct-instrumentation",
   "metadata": {},
   "outputs": [],
   "source": [
    "a = np.array([[1,2,3,4], [5,6,7,8], [9,10,11,12]])              # Create a (3x4) rank 2 array\n",
    "print(a)"
   ]
  },
  {
   "cell_type": "markdown",
   "id": "complicated-declaration",
   "metadata": {},
   "source": [
    "Use slicing to pull out the subarray onsisting of the first 2 rowns and columns 1 & 2; b is the following array of shape (2x2):"
   ]
  },
  {
   "cell_type": "code",
   "execution_count": null,
   "id": "fewer-ethiopia",
   "metadata": {},
   "outputs": [],
   "source": [
    "b = a[:2, 1:3]\n",
    "print(b)"
   ]
  },
  {
   "cell_type": "markdown",
   "id": "surprised-palestinian",
   "metadata": {},
   "source": [
    "`:2` means “everything before the element whose index is 2 (starting from zero)”, so essentially 0 and 1.\n",
    "\n",
    "`1:3` means “all elements whose indices are greater or equal than 1, and smaller than 3”, so 1 and 2.\n",
    "\n",
    "The comma in between separates the first dimension ([1,2,3, 4] in the definition above), and the second dimension ([5, 6, 7, 8])"
   ]
  },
  {
   "cell_type": "markdown",
   "id": "working-douglas",
   "metadata": {},
   "source": [
    "A slice of an array is a view into the same data, so modifying it will modify the original array."
   ]
  },
  {
   "cell_type": "code",
   "execution_count": null,
   "id": "minimal-limitation",
   "metadata": {},
   "outputs": [],
   "source": [
    "print(a[0,1])\n",
    "b[0,0] = 77              # b[0,0] is the same piece of data as a[0,1]\n",
    "print(a[0,1])"
   ]
  },
  {
   "cell_type": "markdown",
   "id": "scheduled-broadcast",
   "metadata": {},
   "source": [
    "You can also mix integer indexing with slice indexing. However doing so will yield an array of lower rank than the original array. Note that this is quite different from the way that MATLAB handles array slicing."
   ]
  },
  {
   "cell_type": "code",
   "execution_count": null,
   "id": "traditional-estonia",
   "metadata": {},
   "outputs": [],
   "source": [
    "# Create the following rank 2 array with a (3x4) shape\n",
    "a = np.array([[1,2,3,4], [5,6,7,8], [9,10,11,12]])\n",
    "print(a)"
   ]
  },
  {
   "cell_type": "markdown",
   "id": "lonely-authentication",
   "metadata": {},
   "source": [
    "Two ways of accessing the data in the middle row of the array. Mixing integer indexing with slices yields an array of lower rank, while using only slices yields an array of the ase rank as the original array."
   ]
  },
  {
   "cell_type": "code",
   "execution_count": null,
   "id": "bearing-print",
   "metadata": {},
   "outputs": [],
   "source": [
    "row_r1 = a[1, :]                         # Rank 1 view of the second row of a\n",
    "row_r2 = a[1:2, :]                       # Rank 2 view of the second row of a\n",
    "row_r3 = a[[1], :]                       # Rank 2 view of the second row of a\n",
    "print(row_r1, row_r1.shape)\n",
    "print(row_r2, row_r2.shape)\n",
    "print(row_r3, row_r3.shape)"
   ]
  },
  {
   "cell_type": "code",
   "execution_count": null,
   "id": "substantial-prayer",
   "metadata": {},
   "outputs": [],
   "source": [
    "# We can make the same distinction when accessing columns of an array:\n",
    "col_r1 = a[:, 1]\n",
    "col_r2 = a[:, 1:2]\n",
    "print(col_r1, col_r1.shape)\n",
    "print()\n",
    "print(col_r2, col_r2.shape)"
   ]
  },
  {
   "cell_type": "markdown",
   "id": "ecological-playlist",
   "metadata": {},
   "source": [
    "Integer array indexing: When you index into numpy arrays using slicing, the resulting array view will always be a subarray of the original one. In contrasy, integer array indexing allows you to construct arbitrary arrays using the data from nother array. Here's an example."
   ]
  },
  {
   "cell_type": "code",
   "execution_count": null,
   "id": "still-measure",
   "metadata": {},
   "outputs": [],
   "source": [
    "a = np.array([[1,2], [3,4], [5,6]])\n",
    "print(a, '\\n')\n",
    "\n",
    "# An example of integer array indexing:.\n",
    "# The returned arra will have the shape (3, ) and\n",
    "print(a[[0,1,2], [0,1,0]])\n",
    "\n",
    "# The above example of integer array indexing is quivalent to this:\n",
    "print(np.array([a[0,0], a[1,1], a[2,0]]))"
   ]
  },
  {
   "cell_type": "code",
   "execution_count": null,
   "id": "ideal-bouquet",
   "metadata": {},
   "outputs": [],
   "source": [
    "# When using integer array indexing you can reuse the same element from the source array:\n",
    "print(a[[0,0], [1,1]])\n",
    "\n",
    "#Equivalent to the previous integer array indexing example:\n",
    "print(np.array([a[0,1], a[0,1]]))"
   ]
  },
  {
   "cell_type": "markdown",
   "id": "aggressive-evans",
   "metadata": {},
   "source": [
    "One useful trick with integer array indexing is selecting or mutating one element from each row of a matrix."
   ]
  },
  {
   "cell_type": "code",
   "execution_count": null,
   "id": "married-imperial",
   "metadata": {},
   "outputs": [],
   "source": [
    "# Create a new array which we will select elements from:\n",
    "a = np.array([[1,2,3], [4,5,6], [7,8,9], [10,11,12]])\n",
    "print(a)"
   ]
  },
  {
   "cell_type": "code",
   "execution_count": null,
   "id": "public-boulder",
   "metadata": {},
   "outputs": [],
   "source": [
    "# Create an array of indices\n",
    "b = np.array([0,2,0,1])\n",
    "\n",
    "# Select one element from each row of a using the indices in b\n",
    "print(a[np.arange(4), b]) # prints \"[1   6   7   11]\""
   ]
  },
  {
   "cell_type": "code",
   "execution_count": null,
   "id": "reserved-reader",
   "metadata": {},
   "outputs": [],
   "source": [
    "# Mutate one element from each row of a using the indices in b\n",
    "a[np.arange(4), b] += 10\n",
    "print(a)"
   ]
  },
  {
   "cell_type": "markdown",
   "id": "imported-restaurant",
   "metadata": {},
   "source": [
    "Boolean array indexing: Boolean array indexing lets you pick out arbitrary elements of an array. Frequently this type of indexing is used to select the elements of an array that satisfy some condition. Here's an example:"
   ]
  },
  {
   "cell_type": "code",
   "execution_count": null,
   "id": "contemporary-relief",
   "metadata": {},
   "outputs": [],
   "source": [
    "a = np.array([[1,2], [3,4], [5,6]])\n",
    "\n",
    "bool_idx = (a>2)                   # Find the elements of a that are greater than 2;\n",
    "                                   # this returns a numpy array of Booleans of the same shape as a, where each slot\n",
    "                                   # of bool_idx tells whether that element of a is > 2\n",
    "print(bool_idx)"
   ]
  },
  {
   "cell_type": "code",
   "execution_count": null,
   "id": "focal-bride",
   "metadata": {},
   "outputs": [],
   "source": [
    "# We use boolean array indexing to construct a rank 1 array consisting of the elements of a, corresponding to the\n",
    "# True values of bool_idx\n",
    "print(a[bool_idx])\n",
    "\n",
    "# We can do all the above in a single statement:\n",
    "print(a[a>2])"
   ]
  },
  {
   "cell_type": "markdown",
   "id": "another-spread",
   "metadata": {},
   "source": [
    "Datatypes"
   ]
  },
  {
   "cell_type": "code",
   "execution_count": null,
   "id": "increasing-american",
   "metadata": {},
   "outputs": [],
   "source": [
    "x = np.array([1,2])                        # Let numpy choose the datatype\n",
    "y = np.array([1.0, 2.0])                   # Let numpy choose the datatype\n",
    "z = np.array([1,2], dtype=np.int64)        # Force a particular datatype\n",
    "\n",
    "print(x.dtype, y.dtype, z.dtype)"
   ]
  },
  {
   "cell_type": "markdown",
   "id": "similar-syndrome",
   "metadata": {},
   "source": [
    "Array Math"
   ]
  },
  {
   "cell_type": "markdown",
   "id": "confidential-peter",
   "metadata": {},
   "source": [
    "Basic mathematical functions operate elementwise on arrays and are available both as operator overloads and as functions in the numpy module."
   ]
  },
  {
   "cell_type": "code",
   "execution_count": null,
   "id": "clinical-adobe",
   "metadata": {},
   "outputs": [],
   "source": [
    "x = np.array([[1,2], [3,4]], dtype=np.float64)\n",
    "y = np.array([[5,6], [7,8]], dtype=np.float64)\n",
    "\n",
    "# Elementwise sum; both produce the same array\n",
    "print(x+y)\n",
    "print(np.add(x, y))"
   ]
  },
  {
   "cell_type": "code",
   "execution_count": null,
   "id": "confidential-grain",
   "metadata": {},
   "outputs": [],
   "source": [
    "x = np.array([[1,2], [3,4]], dtype=np.float64)\n",
    "y = np.array([[5,6], [7,8]], dtype=np.float64)\n",
    "\n",
    "# Elementwise sum; both produce the same array\n",
    "print(x*y)\n",
    "print(np.multiply(x, y))                       # Operations: add(), multiply(), subtract(), divide(), sqrt(), log()"
   ]
  },
  {
   "cell_type": "markdown",
   "id": "ignored-printing",
   "metadata": {},
   "source": [
    "Unlike MATLAB `*` is used for elementwsie multiplication and not for matrix multiplication. Use a dot instead for calculating inner products of vectors, vector * matrix, and matrix multiplication. Dot is available as a function, numpy module and as an instance method of array objects."
   ]
  }
 ],
 "metadata": {
  "kernelspec": {
   "display_name": "Python 3.8.10 64-bit",
   "language": "python",
   "name": "python3810jvsc74a57bd031f2aee4e71d21fbe5cf8b01ff0e069b9275f58929596ceb00d14d90e3e16cd6"
  },
  "language_info": {
   "codemirror_mode": {
    "name": "ipython",
    "version": 3
   },
   "file_extension": ".py",
   "mimetype": "text/x-python",
   "name": "python",
   "nbconvert_exporter": "python",
   "pygments_lexer": "ipython3",
   "version": "3.8.10"
  }
 },
 "nbformat": 4,
 "nbformat_minor": 5
}
